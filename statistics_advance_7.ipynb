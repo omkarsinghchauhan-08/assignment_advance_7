{
 "cells": [
  {
   "cell_type": "code",
   "execution_count": 1,
   "id": "c2caa248-3046-4493-a1d2-882dc513cfe8",
   "metadata": {},
   "outputs": [
    {
     "name": "stdout",
     "output_type": "stream",
     "text": [
      "F-value: 2.283333333333333\n",
      "p-value: 0.26407289702067094\n"
     ]
    }
   ],
   "source": [
    "# Ques 1\n",
    "# ans - \n",
    "import numpy as np\n",
    "from scipy.stats import f\n",
    "\n",
    "def variance_ratio_test(array1, array2):\n",
    "    n1 = len(array1)\n",
    "    n2 = len(array2)\n",
    "    \n",
    "    mean1 = np.mean(array1)\n",
    "    mean2 = np.mean(array2)\n",
    "    \n",
    "    var1 = np.var(array1, ddof=1)\n",
    "    var2 = np.var(array2, ddof=1)\n",
    "    \n",
    "    F = var1 / var2 if var1 >= var2 else var2 / var1\n",
    "    \n",
    "    df1 = n1 - 1\n",
    "    df2 = n2 - 1\n",
    "    \n",
    "    p_value = 2 * (1 - f.cdf(F, df1, df2))\n",
    "    \n",
    "    return F, p_value\n",
    "\n",
    "# Example usage\n",
    "data1 = [23, 18, 21, 25, 29, 33, 17, 15, 20]\n",
    "data2 = [27, 22, 26, 19, 30, 24, 23, 21, 18]\n",
    "\n",
    "F_value, p_value = variance_ratio_test(data1, data2)\n",
    "print(\"F-value:\", F_value)\n",
    "print(\"p-value:\", p_value)\n"
   ]
  },
  {
   "cell_type": "code",
   "execution_count": 2,
   "id": "2a5896ec-6246-47b2-9960-68c80cf7f7b2",
   "metadata": {},
   "outputs": [
    {
     "name": "stdout",
     "output_type": "stream",
     "text": [
      "Critical F-value: 4.236085668188633\n"
     ]
    }
   ],
   "source": [
    "# Ques 2\n",
    "# ans -\n",
    "from scipy.stats import f\n",
    "\n",
    "def critical_f_value(alpha, df1, df2):\n",
    "    # Calculate the critical F-value for a two-tailed test\n",
    "    critical_value = f.ppf(1 - alpha / 2, df1, df2)\n",
    "    return critical_value\n",
    "\n",
    "# Example usage\n",
    "alpha = 0.05\n",
    "df1 = 5  # Degrees of freedom for the numerator\n",
    "df2 = 10  # Degrees of freedom for the denominator\n",
    "\n",
    "critical_value = critical_f_value(alpha, df1, df2)\n",
    "print(\"Critical F-value:\", critical_value)\n"
   ]
  },
  {
   "cell_type": "code",
   "execution_count": 3,
   "id": "1a4d62fc-ea03-480e-b4e8-ff807e82825f",
   "metadata": {},
   "outputs": [],
   "source": [
    "# In this function, critical_f_value calculates the critical F-value for a two-tailed test using the percent point function (ppf) of the F-distribution from the scipy.stats library. The function takes three arguments: the significance level (alpha), and the degrees of freedom for the numerator (df1) and denominator (df2) of the F-distribution. It returns the critical F-value for the given significance level and degrees of freedom.\n",
    "\n",
    "# Remember to replace the alpha, df1, and df2 values with your specific values when using the function."
   ]
  },
  {
   "cell_type": "code",
   "execution_count": 4,
   "id": "b12aa0c5-536d-4509-afef-410e7464608f",
   "metadata": {},
   "outputs": [
    {
     "name": "stdout",
     "output_type": "stream",
     "text": [
      "Sample 1 variance: 4.0\n",
      "Sample 2 variance: 3.0\n",
      "F-value: 1.7574988277795542\n",
      "Degrees of freedom (numerator): 19\n",
      "Degrees of freedom (denominator): 19\n",
      "p-value: 0.22815390498922405\n"
     ]
    }
   ],
   "source": [
    "# Ques 3\n",
    "import numpy as np\n",
    "from scipy.stats import f\n",
    "\n",
    "def variance_ratio_test(array1, array2):\n",
    "    n1 = len(array1)\n",
    "    n2 = len(array2)\n",
    "    \n",
    "    mean1 = np.mean(array1)\n",
    "    mean2 = np.mean(array2)\n",
    "    \n",
    "    var1 = np.var(array1, ddof=1)\n",
    "    var2 = np.var(array2, ddof=1)\n",
    "    \n",
    "    F = var1 / var2 if var1 >= var2 else var2 / var1\n",
    "    \n",
    "    df1 = n1 - 1\n",
    "    df2 = n2 - 1\n",
    "    \n",
    "    p_value = 2 * (1 - f.cdf(F, df1, df2))\n",
    "    \n",
    "    return F, df1, df2, p_value\n",
    "\n",
    "# Generate random samples from two normal distributions\n",
    "np.random.seed(123)\n",
    "sample_size = 20\n",
    "\n",
    "# Known variances\n",
    "variance1 = 4.0\n",
    "variance2 = 3.0\n",
    "\n",
    "sample1 = np.random.normal(loc=10, scale=np.sqrt(variance1), size=sample_size)\n",
    "sample2 = np.random.normal(loc=10, scale=np.sqrt(variance2), size=sample_size)\n",
    "\n",
    "# Perform variance ratio test\n",
    "F_value, df1, df2, p_value = variance_ratio_test(sample1, sample2)\n",
    "\n",
    "# Output results\n",
    "print(\"Sample 1 variance:\", variance1)\n",
    "print(\"Sample 2 variance:\", variance2)\n",
    "print(\"F-value:\", F_value)\n",
    "print(\"Degrees of freedom (numerator):\", df1)\n",
    "print(\"Degrees of freedom (denominator):\", df2)\n",
    "print(\"p-value:\", p_value)\n"
   ]
  },
  {
   "cell_type": "code",
   "execution_count": 5,
   "id": "b703c29d-266e-434a-b387-96f78605fc30",
   "metadata": {},
   "outputs": [
    {
     "name": "stdout",
     "output_type": "stream",
     "text": [
      "Sample 1 variance: 10\n",
      "Sample 2 variance: 15\n",
      "F-value: 1.2802156449229003\n",
      "Degrees of freedom (numerator): 11\n",
      "Degrees of freedom (denominator): 11\n",
      "p-value: 0.689184278746747\n",
      "Fail to reject null hypothesis: Variances are not significantly different.\n"
     ]
    }
   ],
   "source": [
    "# Ques 4 \n",
    "import numpy as np\n",
    "from scipy.stats import f\n",
    "\n",
    "def variance_ratio_test(array1, array2):\n",
    "    n1 = len(array1)\n",
    "    n2 = len(array2)\n",
    "    \n",
    "    mean1 = np.mean(array1)\n",
    "    mean2 = np.mean(array2)\n",
    "    \n",
    "    var1 = np.var(array1, ddof=1)\n",
    "    var2 = np.var(array2, ddof=1)\n",
    "    \n",
    "    F = var1 / var2 if var1 >= var2 else var2 / var1\n",
    "    \n",
    "    df1 = n1 - 1\n",
    "    df2 = n2 - 1\n",
    "    \n",
    "    p_value = 2 * (1 - f.cdf(F, df1, df2))\n",
    "    \n",
    "    return F, df1, df2, p_value\n",
    "\n",
    "# Generate random samples from two normal distributions with known variances\n",
    "np.random.seed(123)\n",
    "sample_size = 12\n",
    "\n",
    "# Known variances\n",
    "variance1 = 10\n",
    "variance2 = 15\n",
    "\n",
    "sample1 = np.random.normal(loc=0, scale=np.sqrt(variance1), size=sample_size)\n",
    "sample2 = np.random.normal(loc=0, scale=np.sqrt(variance2), size=sample_size)\n",
    "\n",
    "# Perform variance ratio test\n",
    "F_value, df1, df2, p_value = variance_ratio_test(sample1, sample2)\n",
    "\n",
    "# Significance level\n",
    "alpha = 0.05\n",
    "\n",
    "# Output results\n",
    "print(\"Sample 1 variance:\", variance1)\n",
    "print(\"Sample 2 variance:\", variance2)\n",
    "print(\"F-value:\", F_value)\n",
    "print(\"Degrees of freedom (numerator):\", df1)\n",
    "print(\"Degrees of freedom (denominator):\", df2)\n",
    "print(\"p-value:\", p_value)\n",
    "\n",
    "# Compare p-value with significance level\n",
    "if p_value < alpha:\n",
    "    print(\"Reject null hypothesis: Variances are significantly different.\")\n",
    "else:\n",
    "    print(\"Fail to reject null hypothesis: Variances are not significantly different.\")\n"
   ]
  },
  {
   "cell_type": "code",
   "execution_count": 6,
   "id": "be05b66b-7524-42fa-a7bf-a2752c2db5e4",
   "metadata": {},
   "outputs": [
    {
     "name": "stdout",
     "output_type": "stream",
     "text": [
      "Sample variance: 0.006\n",
      "Claimed variance: 0.005\n",
      "F-value: 1.2\n",
      "Degrees of freedom (numerator and denominator): 24\n",
      "p-value: 0.6587309365634488\n",
      "Fail to reject null hypothesis: Claim about variance is justified.\n"
     ]
    }
   ],
   "source": [
    "# Ques 5\n",
    "import numpy as np\n",
    "from scipy.stats import f\n",
    "\n",
    "def variance_ratio_test(sample_var, claimed_var, sample_size):\n",
    "    F = sample_var / claimed_var\n",
    "    df1 = sample_size - 1\n",
    "    df2 = sample_size - 1\n",
    "    p_value = 2 * (1 - f.cdf(F, df1, df2))\n",
    "    return F, df1, df2, p_value\n",
    "\n",
    "# Given information\n",
    "sample_size = 25\n",
    "sample_variance = 0.006\n",
    "claimed_variance = 0.005\n",
    "\n",
    "# Perform variance ratio test\n",
    "F_value, df1, df2, p_value = variance_ratio_test(sample_variance, claimed_variance, sample_size)\n",
    "\n",
    "# Significance level\n",
    "alpha = 0.01\n",
    "\n",
    "# Output results\n",
    "print(\"Sample variance:\", sample_variance)\n",
    "print(\"Claimed variance:\", claimed_variance)\n",
    "print(\"F-value:\", F_value)\n",
    "print(\"Degrees of freedom (numerator and denominator):\", df1)\n",
    "print(\"p-value:\", p_value)\n",
    "\n",
    "# Compare p-value with significance level\n",
    "if p_value < alpha:\n",
    "    print(\"Reject null hypothesis: Claim about variance is not justified.\")\n",
    "else:\n",
    "    print(\"Fail to reject null hypothesis: Claim about variance is justified.\")\n"
   ]
  },
  {
   "cell_type": "code",
   "execution_count": 7,
   "id": "b32bcabb-b6ae-4a43-83fc-9aa5a231d21b",
   "metadata": {},
   "outputs": [
    {
     "name": "stdout",
     "output_type": "stream",
     "text": [
      "Mean: 1.3333333333333333\n",
      "Variance: 2.2222222222222223\n"
     ]
    }
   ],
   "source": [
    "# Ques 6 \n",
    "def f_distribution_mean_variance(df1, df2):\n",
    "    if df1 <= 0 or df2 <= 0:\n",
    "        raise ValueError(\"Degrees of freedom must be positive.\")\n",
    "    \n",
    "    if df2 <= 2:\n",
    "        raise ValueError(\"Degrees of freedom for the denominator must be greater than 2.\")\n",
    "    \n",
    "    mean = df2 / (df2 - 2)\n",
    "    variance = (2 * (df2 ** 2) * (df1 + df2 - 2)) / (df1 * (df2 - 2) ** 2 * (df2 - 4))\n",
    "    \n",
    "    return mean, variance\n",
    "\n",
    "# Example usage\n",
    "df1 = 4  # Degrees of freedom for the numerator\n",
    "df2 = 8  # Degrees of freedom for the denominator\n",
    "\n",
    "mean, variance = f_distribution_mean_variance(df1, df2)\n",
    "print(\"Mean:\", mean)\n",
    "print(\"Variance:\", variance)\n"
   ]
  },
  {
   "cell_type": "code",
   "execution_count": 8,
   "id": "3998ea36-ee5b-4944-b201-7dfdc704a28d",
   "metadata": {},
   "outputs": [
    {
     "name": "stdout",
     "output_type": "stream",
     "text": [
      "Sample variance 1: 25\n",
      "Sample variance 2: 20\n",
      "Degrees of freedom (numerator): 9\n",
      "Degrees of freedom (denominator): 14\n",
      "F-value: 1.25\n",
      "p-value: 0.6832194382585954\n",
      "Fail to reject null hypothesis: Variances are not significantly different.\n"
     ]
    }
   ],
   "source": [
    "#Ques 7 \n",
    "import numpy as np\n",
    "from scipy.stats import f\n",
    "\n",
    "def variance_ratio_test(sample_var1, sample_var2, n1, n2):\n",
    "    F = sample_var1 / sample_var2 if sample_var1 >= sample_var2 else sample_var2 / sample_var1\n",
    "    df1 = n1 - 1\n",
    "    df2 = n2 - 1\n",
    "    p_value = 2 * (1 - f.cdf(F, df1, df2))\n",
    "    return F, df1, df2, p_value\n",
    "\n",
    "# Given information for the first sample\n",
    "n1 = 10\n",
    "sample_variance1 = 25\n",
    "\n",
    "# Given information for the second sample\n",
    "n2 = 15\n",
    "sample_variance2 = 20\n",
    "\n",
    "# Perform variance ratio test\n",
    "F_value, df1, df2, p_value = variance_ratio_test(sample_variance1, sample_variance2, n1, n2)\n",
    "\n",
    "# Significance level\n",
    "alpha = 0.10\n",
    "\n",
    "# Output results\n",
    "print(\"Sample variance 1:\", sample_variance1)\n",
    "print(\"Sample variance 2:\", sample_variance2)\n",
    "print(\"Degrees of freedom (numerator):\", df1)\n",
    "print(\"Degrees of freedom (denominator):\", df2)\n",
    "print(\"F-value:\", F_value)\n",
    "print(\"p-value:\", p_value)\n",
    "\n",
    "# Compare p-value with significance level\n",
    "if p_value < alpha:\n",
    "    print(\"Reject null hypothesis: Variances are significantly different.\")\n",
    "else:\n",
    "    print(\"Fail to reject null hypothesis: Variances are not significantly different.\")\n"
   ]
  },
  {
   "cell_type": "code",
   "execution_count": null,
   "id": "a213a1d8-611b-45f9-909f-8a592550bf29",
   "metadata": {},
   "outputs": [],
   "source": [
    "# Que"
   ]
  }
 ],
 "metadata": {
  "kernelspec": {
   "display_name": "Python 3 (ipykernel)",
   "language": "python",
   "name": "python3"
  },
  "language_info": {
   "codemirror_mode": {
    "name": "ipython",
    "version": 3
   },
   "file_extension": ".py",
   "mimetype": "text/x-python",
   "name": "python",
   "nbconvert_exporter": "python",
   "pygments_lexer": "ipython3",
   "version": "3.10.8"
  }
 },
 "nbformat": 4,
 "nbformat_minor": 5
}
